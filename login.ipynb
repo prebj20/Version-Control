{
 "cells": [
  {
   "cell_type": "markdown",
   "metadata": {},
   "source": [
    "# List of logins with corresponding passwords\n",
    "\n",
    "logins = { “prebj20”: “password123”, “jwp65”: “password456”,\n",
    "“maxiaocheng2002”: “password789”, \\# Add your username and password here\n",
    "“your_username”: “your_password” }\n",
    "\n",
    "# Login prompt\n",
    "\n",
    "username_input = input(“Enter username:”).lower()\n",
    "\n",
    "while username_input not in logins: print(“Username not found, please\n",
    "try again.”) username_input = input(“Enter username:”).lower()\n",
    "\n",
    "password_input = input(“Enter password:”)\n",
    "\n",
    "if logins\\[username_input\\] == password_input: print(“You’ve\n",
    "successfully logged in!”) else: print(“Incorrect password, please try\n",
    "again.”)"
   ],
   "id": "42a14256-91c8-446e-92a7-ab6bf11055d3"
  }
 ],
 "nbformat": 4,
 "nbformat_minor": 5,
 "metadata": {}
}
