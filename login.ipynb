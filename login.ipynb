{
 "cells": [
  {
   "cell_type": "code",
   "execution_count": null,
   "metadata": {},
   "outputs": [],
   "source": [
    "# list of logins\n",
    "logins = {
    "prebj20": "password123",
    "jwp65": "password456",
    "maxiaocheng2002": "password789",
    # Add your username and password here
    "your_username": "your_password"
    }\n",
    "\n",
    "# login prompt\n",
    "while input(\"Enter username: \").lower() not in logins:\n",
    "    print(\"Username not found, please try again.\")\n",
    "\n",
    "print(\"You've successfully logged in!\")\n",
    "\n"
   ]
  }
 ],
 "metadata": {
  "language_info": {
   "name": "python"
  }
 },
 "nbformat": 4,
 "nbformat_minor": 2
}
