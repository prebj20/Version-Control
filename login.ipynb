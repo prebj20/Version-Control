{
 "cells": [
  {
   "cell_type": "code",
   "execution_count": null,
   "metadata": {},
   "outputs": [],
   "source": [
    "# list of logins\n",
    "usernames = [\"prebj20\", \"jwp65\", \"xim52\"]\n",
    "\n",
    "# login prompt\n",
    "while input(\"Enter username: \").lower() not in usernames:\n",
    "    print(\"Username not found, please try again.\")\n",
    "\n",
    "print(\"You've successfully logged in!\")\n",
    "\n"
   ]
  }
 ],
 "metadata": {
  "language_info": {
   "name": "python"
  }
 },
 "nbformat": 4,
 "nbformat_minor": 2
}
