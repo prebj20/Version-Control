{
 "cells": [
  {
   "cell_type": "code",
   "execution_count": 1,
   "metadata": {},
   "outputs": [
    {
     "name": "stdin",
     "output_type": "stream",
     "text": [
      "Enter username:  xim52\n"
     ]
    },
    {
     "name": "stdout",
     "output_type": "stream",
     "text": [
      "Username not found, please try again.\n"
     ]
    },
    {
     "name": "stdin",
     "output_type": "stream",
     "text": [
      "Enter username:  maxiaocheng2002\n",
      "Enter password:  password789\n"
     ]
    },
    {
     "name": "stdout",
     "output_type": "stream",
     "text": [
      "You've successfully logged in!\n"
     ]
    }
   ],
   "source": [
    "# List of logins with corresponding passwords\n",
    "logins = {\n",
    "    \"prebj20\": \"password123\",\n",
    "    \"jwp65\": \"password456\",\n",
    "    \"maxiaocheng2002\": \"password789\",\n",
    "    # Add your username and password here\n",
    "    \"your_username\": \"your_password\"\n",
    "}\n",
    "\n",
    "# Login prompt\n",
    "username_input = input(\"Enter username: \").lower()\n",
    "\n",
    "while username_input not in logins:\n",
    "    print(\"Username not found, please try again.\")\n",
    "    username_input = input(\"Enter username: \").lower()\n",
    "\n",
    "password_input = input(\"Enter password: \")\n",
    "\n",
    "if logins[username_input] == password_input:\n",
    "    print(\"You've successfully logged in!\")\n",
    "else:\n",
    "    print(\"Incorrect password, please try again.\")"
   ]
  },
  {
   "cell_type": "code",
   "execution_count": null,
   "metadata": {},
   "outputs": [],
   "source": []
  }
 ],
 "metadata": {
  "kernelspec": {
   "display_name": "Python 3",
   "language": "python",
   "name": "python3"
  },
  "language_info": {
   "codemirror_mode": {
    "name": "ipython",
    "version": 3
   },
   "file_extension": ".py",
   "mimetype": "text/x-python",
   "name": "python",
   "nbconvert_exporter": "python",
   "pygments_lexer": "ipython3",
   "version": "3.8.3"
  }
 },
 "nbformat": 4,
 "nbformat_minor": 4
}
